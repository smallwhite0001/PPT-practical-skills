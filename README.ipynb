{
 "cells": [
  {
   "cell_type": "markdown",
   "metadata": {},
   "source": [
    "# PPT 实用技巧集合"
   ]
  },
  {
   "cell_type": "markdown",
   "metadata": {},
   "source": [
    "该手册搜集非常棒的 PPT 高效操作、美化等技巧。"
   ]
  },
  {
   "cell_type": "markdown",
   "metadata": {},
   "source": [
    "## 快速更换字体"
   ]
  },
  {
   "cell_type": "markdown",
   "metadata": {},
   "source": [
    "若是发现某种字体不好看，可以快速将 PPT 中该字体全部替换成另外的字体：点击 `开始`，`替换`，`替换字体`。"
   ]
  },
  {
   "cell_type": "markdown",
   "metadata": {},
   "source": [
    "![](imgs/2021-11-09_23-08-10.png)"
   ]
  },
  {
   "cell_type": "markdown",
   "metadata": {},
   "source": [
    "当然，你还可以从一开始就直接设置默认字体，这样所有幻灯片都统一字体了：点击 `视图`，`幻灯片母版`，点击 `字体`，下拉菜单选择一个喜欢的字体即可。"
   ]
  },
  {
   "cell_type": "markdown",
   "metadata": {},
   "source": [
    "![](imgs/2021-11-09_23-30-31.png)"
   ]
  },
  {
   "cell_type": "markdown",
   "metadata": {},
   "source": [
    "![](imgs/2021-11-09_23-30-37.png)"
   ]
  },
  {
   "cell_type": "markdown",
   "metadata": {},
   "source": [
    "## 选择窗格编辑"
   ]
  },
  {
   "cell_type": "markdown",
   "metadata": {},
   "source": [
    "如若幻灯片很复杂，一张上有很多相互叠加的元素需要编辑，为了编辑时互不干扰，就可以使用选择窗格：点击 `开始`，`选择`，`选择窗格`，弹出的侧边栏点击小眼睛，即可隐藏或显示要编辑的元素。"
   ]
  },
  {
   "cell_type": "markdown",
   "metadata": {},
   "source": [
    "![](imgs/2021-11-09_23-39-23.png)"
   ]
  },
  {
   "cell_type": "markdown",
   "metadata": {},
   "source": [
    "## 格式刷"
   ]
  },
  {
   "cell_type": "markdown",
   "metadata": {},
   "source": [
    "PPT 的格式刷和 Word，Excel 一样，点一下，只能刷一次，双击，可以一直刷，您记住了吗？"
   ]
  },
  {
   "cell_type": "markdown",
   "metadata": {},
   "source": [
    "## 截屏"
   ]
  },
  {
   "cell_type": "markdown",
   "metadata": {},
   "source": [
    "编辑 PPT 的时候，不需要再使用其他截图软件截取屏幕了。直接使用自带截图功能，截完图自动出现在幻灯片上了（如果是已经打开的窗口，都不用截图，可直接选择自动生成窗口截图）："
   ]
  },
  {
   "cell_type": "markdown",
   "metadata": {},
   "source": [
    "![](imgs/2021-11-09_23-53-07.png)"
   ]
  },
  {
   "cell_type": "markdown",
   "metadata": {},
   "source": [
    "## 利用 SmartArt 快速排版"
   ]
  },
  {
   "cell_type": "markdown",
   "metadata": {},
   "source": [
    "文本编辑好了，不知道怎么排版好吗？随便选择文本框中几个字，右键单击，选择 `转换为 SmartArt`，选择一种喜欢的样式即可："
   ]
  },
  {
   "cell_type": "markdown",
   "metadata": {},
   "source": [
    "![](imgs/2021-11-10_00-13-24.png)"
   ]
  },
  {
   "cell_type": "markdown",
   "metadata": {},
   "source": [
    "![](imgs/2021-11-10_00-13-46.png)"
   ]
  },
  {
   "cell_type": "markdown",
   "metadata": {},
   "source": [
    "图片也可以如上操作，将所有图片拖到幻灯片中，全部选中，点击 `图片格式`，`图片版式`，选择一个即可："
   ]
  },
  {
   "cell_type": "markdown",
   "metadata": {},
   "source": [
    "![](imgs/2021-11-10_00-26-30.png)"
   ]
  },
  {
   "cell_type": "markdown",
   "metadata": {},
   "source": [
    "![](imgs/2021-11-10_00-27-45.png)"
   ]
  },
  {
   "cell_type": "markdown",
   "metadata": {},
   "source": [
    "## 插入对象"
   ]
  },
  {
   "cell_type": "markdown",
   "metadata": {},
   "source": [
    "有时 PPT 中需要一些特殊的符号，图像，或表格啥的，可以使用插入对象。例如利用绘图工具插入一个绘制的图片：点击 插入，对象，选择 Bitmap Image 会自动打开绘图工具，绘制图片就自动插入幻灯片了。"
   ]
  },
  {
   "cell_type": "markdown",
   "metadata": {},
   "source": [
    "![](imgs/2021-11-10_00-38-03.png)"
   ]
  },
  {
   "cell_type": "markdown",
   "metadata": {},
   "source": [
    "## 音频录制"
   ]
  },
  {
   "cell_type": "markdown",
   "metadata": {},
   "source": [
    "录制音频，让打开 PPT 的人，不但可以看 PPT，还可以听到附加对 PPT 的讲解：点击 `插入`，`音频`，`录制音频`，然后录制完了音频自动插入幻灯片。"
   ]
  },
  {
   "cell_type": "markdown",
   "metadata": {},
   "source": [
    "![](imgs/2021-11-10_00-42-04.png)"
   ]
  },
  {
   "cell_type": "markdown",
   "metadata": {},
   "source": [
    "## 录制视频"
   ]
  },
  {
   "cell_type": "markdown",
   "metadata": {},
   "source": [
    "如果要插入的视频不能下载下来（例如直播），可以直接启用屏幕录制，将视频录制下来，这个功能还可以当录屏工具用呢：点击 `插入`，`屏幕录制`，弹出的对话框选择要录制的窗口（还可以连音频一起录制），录制完了，视频自动插入幻灯片："
   ]
  },
  {
   "cell_type": "markdown",
   "metadata": {},
   "source": [
    "![](imgs/2021-11-10_00-43-58.png)"
   ]
  },
  {
   "cell_type": "markdown",
   "metadata": {},
   "source": [
    "![](imgs/2021-11-10_00-45-10.png)"
   ]
  },
  {
   "cell_type": "markdown",
   "metadata": {},
   "source": [
    "## 使用演示者视图"
   ]
  },
  {
   "cell_type": "markdown",
   "metadata": {},
   "source": [
    "当你面对观众演讲时，你想看到 PPT 下一页内容，但观众不能看到，怎么办？"
   ]
  },
  {
   "cell_type": "markdown",
   "metadata": {},
   "source": [
    "按 `F5` 开始放映后，鼠标右键选择 `显示演示者视图` 即可："
   ]
  },
  {
   "cell_type": "markdown",
   "metadata": {},
   "source": [
    "![](imgs/2021-11-10_17-34-37.png)"
   ]
  },
  {
   "cell_type": "markdown",
   "metadata": {},
   "source": [
    "![](imgs/2021-11-10_17-35-42.png)"
   ]
  },
  {
   "cell_type": "markdown",
   "metadata": {},
   "source": [
    "## 文稿保护与管理"
   ]
  },
  {
   "cell_type": "markdown",
   "metadata": {},
   "source": [
    "要为 PPT 设置权限，密码等；或因为意外关闭，要恢复某个时间点的文稿：点击 `文件`，`信息`，`保护演示文稿` 或 `管理演示文稿`。"
   ]
  },
  {
   "cell_type": "markdown",
   "metadata": {},
   "source": [
    "![](imgs/2021-11-10_17-46-11.png)"
   ]
  },
  {
   "cell_type": "markdown",
   "metadata": {},
   "source": [
    "如果要设置文稿自动保存，点击上图中的 `选项`，再点击 `保存`，设置自动保存时间间隔即可："
   ]
  },
  {
   "cell_type": "markdown",
   "metadata": {},
   "source": [
    "![](imgs/2021-11-10_17-48-11.png)"
   ]
  },
  {
   "cell_type": "markdown",
   "metadata": {},
   "source": [
    "## 批量添加标题或 logo"
   ]
  },
  {
   "cell_type": "markdown",
   "metadata": {},
   "source": [
    "要快速在每一页幻灯片上都添加一样的标题或 logo，怎么操作？"
   ]
  },
  {
   "cell_type": "markdown",
   "metadata": {},
   "source": [
    "点击 `视图`，`幻灯片母版`，在最上面一张母版上添加 logo 即可："
   ]
  },
  {
   "cell_type": "markdown",
   "metadata": {},
   "source": [
    "![](imgs/2021-11-10_18-02-03.png)"
   ]
  },
  {
   "cell_type": "markdown",
   "metadata": {},
   "source": [
    "![](imgs/2021-11-10_18-04-51.png)"
   ]
  },
  {
   "cell_type": "markdown",
   "metadata": {},
   "source": [
    "![](imgs/2021-11-10_18-06-46.png)"
   ]
  },
  {
   "cell_type": "markdown",
   "metadata": {},
   "source": [
    "## 批量导入图片"
   ]
  },
  {
   "cell_type": "markdown",
   "metadata": {},
   "source": [
    "如果要把一批照片做成幻灯片，每一张添加描述，并让它自动播放，怎么操作？"
   ]
  },
  {
   "cell_type": "markdown",
   "metadata": {},
   "source": [
    "点击 `插入`，`相册`，`文件/磁盘`，选择要插入的所有照片，`插入`，然后所有照片就做出幻灯片啦，接下来正常处理就可以。"
   ]
  },
  {
   "cell_type": "markdown",
   "metadata": {},
   "source": [
    "![](imgs/2021-11-10_18-27-36.png)"
   ]
  },
  {
   "cell_type": "markdown",
   "metadata": {},
   "source": [
    "播放时自动换片：点击 `切换`，选择要自动换片的幻灯片（全选 `CTRL + A`），勾选 `设置自动换片时间`，并设置换片时间即可："
   ]
  },
  {
   "cell_type": "markdown",
   "metadata": {},
   "source": [
    "![](imgs/2021-11-10_18-27-36.png)"
   ]
  },
  {
   "cell_type": "markdown",
   "metadata": {},
   "source": [
    "## 快速提取图片，音频或视频"
   ]
  },
  {
   "cell_type": "markdown",
   "metadata": {},
   "source": [
    "如果要将 PPT 中的图片或视频提取出来，不用一张一张保存，修改 PPT 文件后缀为 `.rar`，解压出来，就能获得全部图片，音频或视频。"
   ]
  },
  {
   "cell_type": "markdown",
   "metadata": {},
   "source": [
    "还可以将 PPT 另存为图片呢：点击 `文件`，`另存为`，格式选择 `jpg` 或 `png` 即可。"
   ]
  },
  {
   "cell_type": "markdown",
   "metadata": {},
   "source": [
    "## 主题应用"
   ]
  },
  {
   "cell_type": "markdown",
   "metadata": {},
   "source": [
    "PPT 内容编辑好了，可以使用主题将幻灯片快速美化：点击 `设计`，展开主题选择一个点击一下即可应用。"
   ]
  },
  {
   "cell_type": "markdown",
   "metadata": {},
   "source": [
    "![](imgs/2021-11-10_19-47-30.png)"
   ]
  },
  {
   "cell_type": "markdown",
   "metadata": {},
   "source": [
    "![](imgs/2021-11-10_19-49-25.png)"
   ]
  },
  {
   "cell_type": "markdown",
   "metadata": {},
   "source": [
    "## 快速对齐"
   ]
  },
  {
   "cell_type": "markdown",
   "metadata": {},
   "source": [
    "PPT 中对齐非常常见，会遇到各种对齐，如何快速将多个元素对齐呢？"
   ]
  },
  {
   "cell_type": "markdown",
   "metadata": {},
   "source": [
    "选择要对齐的元素，右键单击，选择对齐方式即可："
   ]
  },
  {
   "cell_type": "markdown",
   "metadata": {},
   "source": [
    "![](imgs/2021-11-10_20-19-57.png)"
   ]
  },
  {
   "cell_type": "markdown",
   "metadata": {},
   "source": [
    "## 裁剪图片形状"
   ]
  },
  {
   "cell_type": "markdown",
   "metadata": {},
   "source": [
    "有时候插入的图片形状不好看，可以选中图片，点击 `图片格式`，`裁剪`，`裁剪为形状`，选择适合的形状即可："
   ]
  },
  {
   "cell_type": "markdown",
   "metadata": {},
   "source": [
    "![](imgs/2021-11-10_20-32-09.png)"
   ]
  },
  {
   "cell_type": "markdown",
   "metadata": {},
   "source": [
    "## 取色器的使用"
   ]
  },
  {
   "cell_type": "markdown",
   "metadata": {},
   "source": [
    "幻灯片中有插入图片，有插入形状，有插入图标，怎么将它们的颜色统一呢？"
   ]
  },
  {
   "cell_type": "markdown",
   "metadata": {},
   "source": [
    "例如将颜色统一成插入图片的颜色：点击插入的图标，点击 `图形格式`，点击 `图形填充`，点击 `取色器`，选取图片中适合的颜色即可。"
   ]
  },
  {
   "cell_type": "markdown",
   "metadata": {},
   "source": [
    "![](imgs/2021-11-10_20-55-27.png)"
   ]
  },
  {
   "cell_type": "markdown",
   "metadata": {},
   "source": [
    "![](imgs/2021-11-10_20-58-19.png)"
   ]
  },
  {
   "cell_type": "markdown",
   "metadata": {},
   "source": [
    "提示：取色器还可以选取 PPT 之外的颜色，操作是点击取色器之后，按住左键，光标拖到 PPT 之外取色即可。"
   ]
  },
  {
   "cell_type": "markdown",
   "metadata": {},
   "source": [
    "## 文字嵌入文件"
   ]
  },
  {
   "cell_type": "markdown",
   "metadata": {},
   "source": [
    "有时候我们在自己的电脑上设计的 PPT，放到别人电脑上打开，字体全变了，怎么设置，能让字体不变呢？"
   ]
  },
  {
   "cell_type": "markdown",
   "metadata": {},
   "source": [
    "将字体嵌入文件：点击 `文件`，`选项`，`保存`，勾选 `将文字嵌入文件`，再勾选第一个选项即可。"
   ]
  },
  {
   "cell_type": "markdown",
   "metadata": {},
   "source": [
    "![](imgs/2021-11-10_21-06-28.png)"
   ]
  },
  {
   "cell_type": "markdown",
   "metadata": {},
   "source": [
    "## 文字填充图片"
   ]
  },
  {
   "cell_type": "markdown",
   "metadata": {},
   "source": [
    "幻灯片中的大文字单调怎么美化呢？填充图片。"
   ]
  },
  {
   "cell_type": "markdown",
   "metadata": {},
   "source": [
    "在文字上右键单击，选择 `设置文字效果格式`，点击 `文本选项`，点击第一个 `A`，展开 `文本填充`，勾选 `图片或纹理填充`，点击 `插入`，将图片插入即可："
   ]
  },
  {
   "cell_type": "markdown",
   "metadata": {},
   "source": [
    "![](imgs/2021-11-10_21-24-06.png)"
   ]
  },
  {
   "cell_type": "markdown",
   "metadata": {},
   "source": [
    "## 附录：PPT 快捷键"
   ]
  },
  {
   "cell_type": "markdown",
   "metadata": {},
   "source": [
    "### 常用快捷方式"
   ]
  },
  {
   "cell_type": "markdown",
   "metadata": {},
   "source": [
    "| 执行的操作                      | 按         |\n",
    "| ------------------------------------ | ----------- |\n",
    "| 创建新演示文稿。             | Ctrl+N      |\n",
    "| 添加新幻灯片。                | Ctrl+M      |\n",
    "| 使所选文字加粗。             | Ctrl+B      |\n",
    "| 更改所选文字的字号。       | Alt+H、F、S |\n",
    "| 打开 \"缩放\" 对话框。       | Alt+W, Q    |\n",
    "| 剪切所选文字、对象或幻灯片。 | Ctrl+X      |\n",
    "| 复制所选文字、对象或幻灯片。 | Ctrl+C      |\n",
    "| 粘贴剪切或复制的文本、对象或幻灯片。 | Ctrl+V      |\n",
    "| 撤消最后一个操作。          | Ctrl+Z      |\n",
    "| 保存演示文稿。                | Ctrl+S      |\n",
    "| 插入来自设备的图片。       | Alt+N、P、D |\n",
    "| 插入形状。                      | Alt+N、S、H |\n",
    "| 选择主题。                      | Alt+G, H    |\n",
    "| 选择幻灯片布局。             | Alt+H, L    |\n",
    "| 转到下一张幻灯片。          | Page down   |\n",
    "| 转到上一张幻灯片。          | Page up     |\n",
    "| 转到\"开始 \" 选项卡。       | Alt+H       |\n",
    "| 转到\"插入 \" 选项卡。       | Alt+N       |\n",
    "| 开始幻灯片放映。             | F5          |\n",
    "| 结束幻灯片放映。             | Esc         |\n",
    "| 关闭 PowerPoint 。                | Ctrl+Q      |"
   ]
  },
  {
   "cell_type": "markdown",
   "metadata": {},
   "source": [
    "### 在窗格之间移动"
   ]
  },
  {
   "cell_type": "markdown",
   "metadata": {},
   "source": [
    "| 若要                                       | 按            |\n",
    "| -------------------------------------------- | -------------- |\n",
    "| 在\"普通\"视图中的窗格之间顺 时针 循环。 | F6             |\n",
    "| 逆时针循环浏览\"普通\"视图中 的 窗格。 | Shift+F6       |\n",
    "| 在\"缩略图 \"窗格 和\" 大纲视图\"窗格之间 切换。 | Ctrl+Shift+Tab |"
   ]
  },
  {
   "cell_type": "markdown",
   "metadata": {},
   "source": [
    "### 在\"大纲\"视图中工作"
   ]
  },
  {
   "cell_type": "markdown",
   "metadata": {},
   "source": [
    "| 执行的操作    | 按                  |\n",
    "| ------------------ | -------------------- |\n",
    "| 提升段落级别。 | Alt+Shift+向左键  |\n",
    "| 降低段落级别。 | Alt+Shift+向右键  |\n",
    "| 上移所选段落。 | Alt+Shift+向上箭头键 |\n",
    "| 下移所选段落。 | Alt+Shift+向下键  |\n",
    "| 显示级别 1 标题。 | Alt+Shift+1          |\n",
    "| 展开标题下的文本。 | Alt+Shift+加号 (+) |\n",
    "| 折叠标题下的文本。 | Alt+Shift+减号 (-) |"
   ]
  },
  {
   "cell_type": "markdown",
   "metadata": {},
   "source": [
    "### 选择并编辑文本和对象"
   ]
  },
  {
   "cell_type": "markdown",
   "metadata": {},
   "source": [
    "| 若要                                             | 按                                         |\n",
    "| -------------------------------------------------- | ------------------------------------------- |\n",
    "| 向右选择一个字符。                        | Shift+向右键                             |\n",
    "| 向左选择一个字符。                        | Shift+向左键                             |\n",
    "| 选择到词尾。                                 | Ctrl+Shift+向右键                        |\n",
    "| 选择到词首。                                 | Ctrl+Shift+向左键                        |\n",
    "| 选择上一行（前提是光标位于行的开头）。 | Shift+向上键                             |\n",
    "| 选择下一行（前提是光标位于行的开头）。 | Shift+向下键                             |\n",
    "| 选择对象内的文本时，选择对象。      | Esc                                         |\n",
    "| 选择一个对象时选择另一个对象。      | 按 Tab 键或 Shift+Tab，直到选中了想要的对象 |\n",
    "| 将对象向后发送一个位置。               | Ctrl+左中括号 ([)                       Office 2010 和 Office 2007 ：不可用    |\n",
    "| 将对象向前发送一个位置。               | Ctrl+右方括号 (])                      Office 2010 和 Office 2007 ：不可用    |\n",
    "| 将对象置于底层。                           | Ctrl+Shift+左中括号 ([)                 Office 2010 和 Office 2007 ：不可用    |\n",
    "| 将对象发送到顶层。                        | Ctrl+Shift+右方括号 (])                Office 2010 和 Office 2007 ：不可用    |\n",
    "| 选择对象内的文本（已选定一个对象）。 | Enter                                       |\n",
    "| 选择幻灯片上的所有对象。               | Ctrl+A                                      |\n",
    "| 播放或暂停媒体。                           | Ctrl+空格键                              |\n",
    "| 在\"幻灯片浏览\" 视图或缩略图窗格中 选择所有幻灯片。 | Ctrl+A                                      |\n",
    "| 选择\"大纲\"视图中 的所有 文本。      | Ctrl+A                                      |\n",
    "| 向左删除一个字符。                  | Backspace                           |\n",
    "| 向左删除一个字词。                  | Ctrl+Backspace                      |\n",
    "| 向右删除一个字符。                  | Delete                              |\n",
    "| 在右侧位置删除一 (，光标位于两个单词之间) 。 | Ctrl+Delete                         |\n",
    "| 剪切选定的对象或文本。            | Ctrl+X                              |\n",
    "| 复制选定的对象或文本。            | Ctrl+C                              |\n",
    "| 粘贴剪切或复制的对象或文本。   | Ctrl+V                              |\n",
    "| 复制对象。                              | Ctrl+D;                           Ctrl+拖动鼠标;                    Office 2010 和 Office 2007 ：不可用 |\n",
    "| 撤消最后一个操作。                  | Ctrl+Z                              |\n",
    "| 恢复最后一个操作。                  | Ctrl+Y                              |\n",
    "| 只复制格式。                           | Ctrl+Shift+C                        |\n",
    "| 只粘贴格式。                           | Ctrl+Shift+V                        |\n",
    "| 复制动画刷。                           | Alt+Shift+C                         Office 2010 和 Office 2007 ：不可用 |\n",
    "| 粘贴动画刷。                           | Alt+Shift+V                          Office 2010 和 Office 2007 ：不可用 |\n",
    "| 打开\" 选择性粘贴\" 对话框。      | Ctrl+Alt+V                          |\n",
    "| 向左移动一个字符。                                                                                         | 向左键   |\n",
    "| 向右移动一个字符。                                                                                         | 向右键   |\n",
    "| 向上移动一行。                                                                                               | 向上键   |\n",
    "| 向下移动一行。                                                                                               | 向下键   |\n",
    "| 向左移动一个字词。                                                                                         | Ctrl+向左键 |\n",
    "| 向右移动一个字词。                                                                                         | Ctrl+向右键 |\n",
    "| 移至行尾。                                                                                                     | End         |\n",
    "| 移至行首。                                                                                                     | Home        |\n",
    "| 向上移动一个段落。                                                                                         | Ctrl+向上键 |\n",
    "| 向下移动一个段落。                                                                                         | Ctrl+向下键 |\n",
    "| 移至文本框的末尾。                                                                                         | Ctrl+End    |\n",
    "| 移至文本框的开头。                                                                                         | Ctrl+Home   |\n",
    "| 移到下一标题或正文文本占位符。 如果这是幻灯片上的最后一个占位符，则此操作将插入一个与原始幻灯片版式相同的新幻灯片。 | Ctrl+Enter  |\n",
    "| 打开“查找”对话框。                           | Ctrl+F    |\n",
    "| 打开“替换”对话框。                           | Ctrl+H    |\n",
    "| 重复上一个“查找”操作。                     | Shift+F4  |\n",
    "| 移到下一个单元格。                              | Tab 键   |\n",
    "| 移至前一个单元格。                              | Shift+Tab |\n",
    "| 移至下一行。                                       | 向下键 |\n",
    "| 移至前一行。                                       | 向上键 |\n",
    "| 在单元格中插入一个制表符。                  | Ctrl+Tab  |\n",
    "| 开始一个新段落。                                 | Enter     |\n",
    "| 在表格底部添加新行，光标位于最后一行的最后一个单元格中。 | Tab 键   |"
   ]
  },
  {
   "cell_type": "markdown",
   "metadata": {},
   "source": [
    "### 设置文本格式"
   ]
  },
  {
   "cell_type": "markdown",
   "metadata": {},
   "source": [
    "| 若要                             | 按                     |\n",
    "| ---------------------------------- | ----------------------- |\n",
    "| 打开“字体”对话框更改字体。 | Ctrl+T 或 Ctrl+Shift+F |\n",
    "| 增大字号。                    | Ctrl+Shift+右尖括号 (>) |\n",
    "| 减小字号。                    | Ctrl+Shift+左尖括号 (<) |\n",
    "| 打开 \"字体 \"对话框以更改字符格式。 | Ctrl+T 或 Ctrl+Shift+F |\n",
    "| 在句子大小写、小写或大写之间切换。 | Shift+F3                |\n",
    "| 应用加粗格式。              | Ctrl+B                  |\n",
    "| 应用下划线格式。           | Ctrl+U                  |\n",
    "| 应用倾斜格式。              | Ctrl+I                  |\n",
    "| 应用下标格式（自动间距）。 | Ctrl+等号 ( = )       |\n",
    "| 应用上标格式（自动间距）。 | Ctrl+Shift+加号 (+)   |\n",
    "| 删除手动字符格式，如下标和上标。 | Ctrl+空格键          |\n",
    "| 插入超链接。                 | Ctrl+K                  |\n",
    "| 复制所选文本的格式。     | Ctrl+Shift+C            |\n",
    "| 将复制的格式粘贴到所选文本。 | Ctrl+Shift+V            |\n",
    "| 使段落居中。                 | Ctrl+E                  |\n",
    "| 使段落两端对齐。           | Ctrl+J                  |\n",
    "| 将段落左对齐。              | Ctrl+L                  |\n",
    "| 使段落右对齐。              | Ctrl+R                  |"
   ]
  },
  {
   "cell_type": "markdown",
   "metadata": {},
   "source": [
    "### 使用形状、图片、框、对象和艺术字"
   ]
  },
  {
   "cell_type": "markdown",
   "metadata": {},
   "source": [
    "| 执行的操作                                | 按                                         |\n",
    "| ---------------------------------------------- | ------------------------------------------- |\n",
    "| 插入文本框。                             | Alt+N、X                                   |\n",
    "| 将嵌入的文档或电子表格作为对象插入。 | Alt+N，J                                   |\n",
    "| 插入艺术字。                             | Alt+N、W                                   |\n",
    "| 将焦点移动到第一个浮动的形状，如图像或文本框。 | Ctrl+Alt+5                                  |\n",
    "| 组合所选形状、图片或艺术字对象。 | Ctrl+G                                      |\n",
    "| 取消组合所选组。                       | Ctrl+Shift+G                                |\n",
    "| 复制所选形状的属性。                 | Ctrl+Shift+C                                |\n",
    "| 将属性粘贴到所选对象。              | Ctrl+Shift+V                                |\n",
    "| 编辑链接或嵌入的对象。              | 按 Shift+F10 (打开上下文菜单，) O、Enter、E |"
   ]
  },
  {
   "cell_type": "markdown",
   "metadata": {},
   "source": [
    "### 插入批注"
   ]
  },
  {
   "cell_type": "markdown",
   "metadata": {},
   "source": [
    "插入新批注。"
   ]
  },
  {
   "cell_type": "markdown",
   "metadata": {},
   "source": [
    "Alt+N、L 或 Shift+F10、M"
   ]
  },
  {
   "cell_type": "markdown",
   "metadata": {},
   "source": [
    "### 在幻灯片平台中更改各幻灯片或各节的顺序"
   ]
  },
  {
   "cell_type": "markdown",
   "metadata": {},
   "source": [
    "| 执行的操作              | 按                   |\n",
    "| ---------------------------- | --------------------- |\n",
    "| 有序向上移动所选幻灯片或节。 | Ctrl+向上键        |\n",
    "| 按顺序排列所选幻灯片或节。 | Ctrl+向下键        |\n",
    "| 将所选幻灯片或节移动到开头。 | Ctrl+Shift+向上箭头键 |\n",
    "| 将所选幻灯片或节移至末尾。 | Ctrl+Shift+向下箭头键 |"
   ]
  },
  {
   "cell_type": "markdown",
   "metadata": {},
   "source": [
    "### 使用\"选择\"窗格"
   ]
  },
  {
   "cell_type": "markdown",
   "metadata": {},
   "source": [
    "| 执行的操作                                                      | 按                             |\n",
    "| -------------------------------------------------------------------- | ------------------------------- |\n",
    "| 打开\" 选择\" 窗格。                                          | Alt+H、S、L、P。                Office 2007 ：Alt+J、D、A、P |\n",
    "| 在不同窗格中循环移动焦点。                              | F6                              |\n",
    "| 显示上下文菜单。                                             | Shift+F10                       |\n",
    "| 将焦点移到单个项目或组。                                 | 向上或向下键              |\n",
    "| 将焦点从组中的某个项目移至其父组。                  | 向左键                       |\n",
    "| 将焦点从某个组移至该组中的第一个项目。            | 向右键                       |\n",
    "| 展开获得焦点的组及其所有子组。                        | 仅数字键盘上的 (*) (星号) |\n",
    "| 展开获得焦点的组。                                          | 数字键盘上的加 (+) (+) 或向右键 |\n",
    "| 折叠获得焦点的组。                                          | 数字键盘 (或向左) (减号) 号 |\n",
    "| 将焦点移至某个项目并选择该项目。                     | Shift+向上或向下箭头键  |\n",
    "| 选择获得焦点的项目。                                       | 空格键或 Enter              |\n",
    "| 取消选择获得焦点的项目。                                 | Shift+空格键或 Shift+Enter  |\n",
    "| 向前移动所选的项目。                                       | Ctrl+Shift+F                    |\n",
    "| 向后移动所选的项目。                                       | Ctrl+Shift+B                    |\n",
    "| 显示或隐藏获得焦点的项目。                              | Ctrl+Shift+S                    |\n",
    "| 重命名获得焦点的项目。                                    | F2                              |\n",
    "| 在树视图和\"全部显示\"和\"全部隐藏\"按钮之间的\"选择\"窗格中切换键盘焦点。 | Tab 键或 Shift+Tab            |\n",
    "| 折叠所有 (组，焦点在\"选择\"窗格的树视图中) 。      | Alt+Shift+1                     |\n",
    "| 展开所有组。                                                   | Alt+Shift+9                     |"
   ]
  },
  {
   "cell_type": "markdown",
   "metadata": {},
   "source": [
    "### 访问和使用任务窗格"
   ]
  },
  {
   "cell_type": "markdown",
   "metadata": {},
   "source": [
    "| 若要                                                                                | 按                       |\n",
    "| ------------------------------------------------------------------------------------- | ------------------------- |\n",
    "| 从程序窗口中的另一个窗格或区域移动到任务窗格。 (可能需要多次按 F6。) | F6                        |\n",
    "| 当任务窗格选项具有焦点时，移动到任务窗格中的下一个或上一个选项。 | Tab 键或 Shift+Tab      |\n",
    "| 在任务窗格菜单上显示完整的命令集。 例如，可以访问任务窗格的\"关闭、移动\"或\"大小\"按钮。 | Ctrl+空格键； Office 2010 ：Ctrl+向下键 |\n",
    "| 移到任务窗格菜单上的下一个命令。                                      | 向上键和向下键     |\n",
    "| 选择任务窗格菜单上突出显示的选项。                                   | Enter                     |\n",
    "| 选择相应的命令后，移动任务窗格或调整其大小。                    | 箭头键                 |\n",
    "| 打开 剪贴板。                                                                  | Alt+H、F、O             |\n",
    "| 关闭任务窗格。                                                                 | Ctrl+空格键，C        |"
   ]
  },
  {
   "cell_type": "markdown",
   "metadata": {},
   "source": [
    "### 其他有用的快捷键"
   ]
  },
  {
   "cell_type": "markdown",
   "metadata": {},
   "source": [
    "| 执行的操作                                                                    | 按         |\n",
    "| ---------------------------------------------------------------------------------- | ----------- |\n",
    "| 打开\" 打印\" 对话框。                                                     | Ctrl+P      |\n",
    "| 使用默认打印机设置将演示文稿中所有幻灯片打印为整页幻灯片， (\"打印\"对话框打开时) 。 | Alt+P、P   |\n",
    "| 在\"普通 \"视图中显示 或隐藏\"备注 \" 窗格。                       | Alt+W、P、N |\n",
    "| 显示或隐藏网格。                                                           | Shift+F9    |\n",
    "| 显示或隐藏参考线。                                                        | Alt+F9      |"
   ]
  }
 ],
 "metadata": {
  "kernelspec": {
   "display_name": "Python 3",
   "language": "python",
   "name": "python3"
  },
  "language_info": {
   "codemirror_mode": {
    "name": "ipython",
    "version": 3
   },
   "file_extension": ".py",
   "mimetype": "text/x-python",
   "name": "python",
   "nbconvert_exporter": "python",
   "pygments_lexer": "ipython3",
   "version": "3.7.3"
  }
 },
 "nbformat": 4,
 "nbformat_minor": 2
}